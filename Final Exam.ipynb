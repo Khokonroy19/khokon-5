{
 "cells": [
  {
   "cell_type": "markdown",
   "id": "chubby-culture",
   "metadata": {},
   "source": [
    "<b>1.Write nested if statements to print the appropriate message\n",
    "depending on the value of the variables temperature and humidity as\n",
    "given as follows. Assume that the temperature can only be warm and\n",
    "cold and the humidity can only be dry and humid."
   ]
  },
  {
   "cell_type": "code",
   "execution_count": 2,
   "id": "polar-commonwealth",
   "metadata": {},
   "outputs": [
    {
     "name": "stdout",
     "output_type": "stream",
     "text": [
      "Enter temperature:Cold\n",
      "Enter humidity:Dry\n",
      " Play cricket\n"
     ]
    }
   ],
   "source": [
    "tem=input(\"Enter temperature:\")\n",
    "humidity=input(\"Enter humidity:\")\n",
    "if(tem=='Warm' and humidity=='Dry'):\n",
    "    print(\"Play Basketball\")\n",
    "    \n",
    "elif(tem=='Warm' and humidity=='Humid'):\n",
    "    print(\"Play Tennis\")\n",
    "    \n",
    "elif(tem=='Cold' and humidity=='Dry'):\n",
    "    print(\" Play cricket\")\n",
    "    \n",
    "elif(tem=='Cold' and humidity=='Humid'):\n",
    "    print(\"Swim\")"
   ]
  },
  {
   "cell_type": "markdown",
   "id": "pacific-istanbul",
   "metadata": {},
   "source": [
    "<b>2.Consider a college cricket club in which a student can enroll only if\n",
    "he/she is less than 18 and greater than 15 years old. Write a program\n",
    "using the not operator."
   ]
  },
  {
   "cell_type": "code",
   "execution_count": 3,
   "id": "sensitive-assault",
   "metadata": {},
   "outputs": [
    {
     "name": "stdout",
     "output_type": "stream",
     "text": [
      "Enter age:16\n",
      "Can enroll\n"
     ]
    }
   ],
   "source": [
    "age=int(input(\"Enter age:\"))\n",
    "\n",
    "if(age<18 and age>15):\n",
    "    print(\"Can enroll\")\n",
    "    \n",
    "else:\n",
    "    print(\"Can not enroll\")"
   ]
  },
  {
   "cell_type": "markdown",
   "id": "labeled-guitar",
   "metadata": {},
   "source": [
    "<b>3.Write a program to display multiplication tables from 1 to 5"
   ]
  },
  {
   "cell_type": "code",
   "execution_count": 7,
   "id": "integrated-regular",
   "metadata": {},
   "outputs": [
    {
     "name": "stdout",
     "output_type": "stream",
     "text": [
      "5 X 1 = 5\n",
      "5 X 2 = 10\n",
      "5 X 3 = 15\n",
      "5 X 4 = 20\n"
     ]
    }
   ],
   "source": [
    "\n",
    "for i in range(1,5):\n",
    "    print(n,'X',i,'=',n*i)\n"
   ]
  },
  {
   "cell_type": "markdown",
   "id": "forbidden-circular",
   "metadata": {},
   "source": [
    "<b>5.Consider an input string that has a list of names of various\n",
    "multinational companies, such as TCS, INFOSYS, MICROSOFT,"
   ]
  },
  {
   "cell_type": "code",
   "execution_count": 10,
   "id": "listed-depth",
   "metadata": {},
   "outputs": [
    {
     "name": "stdout",
     "output_type": "stream",
     "text": [
      "['TCS']\n",
      "['INFOSYS']\n",
      "['MICROSOFT']\n",
      "['YAHOO']\n",
      "['GOOGLE']\n"
     ]
    }
   ],
   "source": [
    "s=\"TCS\"\n",
    "s1=s.split()\n",
    "s2=\"INFOSYS\"\n",
    "s3=s2.split()\n",
    "s4=\"MICROSOFT\"\n",
    "s5=s4.split()\n",
    "s6=\"YAHOO\"\n",
    "s7=s6.split()\n",
    "s8=\"GOOGLE\"\n",
    "s9=s8.split()\n",
    "print(s1)\n",
    "print(s3)\n",
    "print(s5)\n",
    "print(s7)\n",
    "print(s9)\n"
   ]
  },
  {
   "cell_type": "markdown",
   "id": "pointed-husband",
   "metadata": {},
   "source": [
    "<b>4.Write a function reverse_number() to return the reverse of the\n",
    "number entered.\n",
    "Example: Reverse_number(1234) displays 4321"
   ]
  },
  {
   "cell_type": "code",
   "execution_count": 17,
   "id": "spread-heavy",
   "metadata": {},
   "outputs": [
    {
     "name": "stdout",
     "output_type": "stream",
     "text": [
      "Enter num:1234\n",
      "reverse num is:4321\n"
     ]
    }
   ],
   "source": [
    "num=int(input(\"Enter num:\"))\n",
    "revs_num=0\n",
    "while(num>0):\n",
    "    rem=num%10\n",
    "    revs_num=(revs_num*10)+rem\n",
    "    num=num//10\n",
    "    \n",
    "print(\"reverse num is:{}\".format(revs_num))    "
   ]
  },
  {
   "cell_type": "markdown",
   "id": "wooden-proxy",
   "metadata": {},
   "source": [
    "<b>9.Formula to calculate compound interest annually is given by:\n",
    "A = P(1 + R/100) t\n",
    "Compound Interest = A – P\n",
    "Where,\n",
    "A is amount\n",
    "P is principal amount"
   ]
  },
  {
   "cell_type": "code",
   "execution_count": 18,
   "id": "established-newsletter",
   "metadata": {},
   "outputs": [
    {
     "name": "stdout",
     "output_type": "stream",
     "text": [
      "enter input P:4\n",
      "enter input R:5\n",
      "enter input T:6\n",
      "A = 5489.03\n"
     ]
    }
   ],
   "source": [
    "P=int(input(\"enter input P:\"))\n",
    "R=int(input(\"enter input R:\"))\n",
    "T=int(input(\"enter input T:\"))\n",
    "c=R/100\n",
    "d=(P*(1+c))\n",
    "A=d**T\n",
    "print(\"A = %.2f\" %A)"
   ]
  },
  {
   "cell_type": "markdown",
   "id": "happy-fields",
   "metadata": {},
   "source": [
    "<b>Compound Interest X =A-P"
   ]
  },
  {
   "cell_type": "code",
   "execution_count": 19,
   "id": "violent-mentor",
   "metadata": {},
   "outputs": [
    {
     "name": "stdout",
     "output_type": "stream",
     "text": [
      "X= 5485.03\n"
     ]
    }
   ],
   "source": [
    "X=A-P\n",
    "print(\"X= %.2f\" %X)"
   ]
  },
  {
   "cell_type": "markdown",
   "id": "missing-money",
   "metadata": {},
   "source": [
    "<b>6.Consider the list with mixed types of elements, such as L1 =\n",
    "[1,’x’,4,5.6,’z’, 9, ‘a’, 0, 4]. Create another list using list comprehension\n",
    "which consists of only the integer element present within the list L1."
   ]
  },
  {
   "cell_type": "code",
   "execution_count": 26,
   "id": "confirmed-falls",
   "metadata": {},
   "outputs": [
    {
     "name": "stdout",
     "output_type": "stream",
     "text": [
      "[1, 2, 3, 4, 5, 6, 7, 8, 9]\n"
     ]
    }
   ],
   "source": [
    "l1=[1,'x',4,5.6,'z',9,'a',0,4]\n",
    "l2=(l1[0],l1[2],l1[5],l1[7],l1[8])\n",
    "l2=[i for i in range (1,9+1)]\n",
    "print(l2)\n",
    "  \n"
   ]
  },
  {
   "cell_type": "markdown",
   "id": "prescription-label",
   "metadata": {},
   "source": [
    "<b>7.Consider an ongoing test cricket series.............."
   ]
  },
  {
   "cell_type": "code",
   "execution_count": 27,
   "id": "close-heather",
   "metadata": {},
   "outputs": [
    {
     "name": "stdout",
     "output_type": "stream",
     "text": [
      "{'Tamim': '103', 'Shakib': '150', 'Liton': '42'}\n"
     ]
    }
   ],
   "source": [
    "keys=[\"Tamim\",\"Shakib\",\"Liton\"]\n",
    "vals=[\"103\",\"150\",\"42\"]\n",
    "data=dict(zip(keys,vals))\n",
    "print(data)"
   ]
  },
  {
   "cell_type": "code",
   "execution_count": null,
   "id": "restricted-breath",
   "metadata": {},
   "outputs": [],
   "source": []
  }
 ],
 "metadata": {
  "kernelspec": {
   "display_name": "Python 3",
   "language": "python",
   "name": "python3"
  },
  "language_info": {
   "codemirror_mode": {
    "name": "ipython",
    "version": 3
   },
   "file_extension": ".py",
   "mimetype": "text/x-python",
   "name": "python",
   "nbconvert_exporter": "python",
   "pygments_lexer": "ipython3",
   "version": "3.9.2"
  }
 },
 "nbformat": 4,
 "nbformat_minor": 5
}
